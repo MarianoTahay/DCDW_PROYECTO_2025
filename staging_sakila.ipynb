{
 "cells": [
  {
   "cell_type": "markdown",
   "metadata": {},
   "source": [
    "# Librerias"
   ]
  },
  {
   "cell_type": "code",
   "execution_count": 1,
   "metadata": {},
   "outputs": [],
   "source": [
    "import configparser\n",
    "import pandas as pd\n",
    "import pymysql\n",
    "import re\n",
    "from sqlalchemy import create_engine, text"
   ]
  },
  {
   "cell_type": "markdown",
   "metadata": {},
   "source": [
    "# Configuracion de parámetros"
   ]
  },
  {
   "cell_type": "code",
   "execution_count": 4,
   "metadata": {},
   "outputs": [
    {
     "data": {
      "text/plain": [
       "['config.ini']"
      ]
     },
     "execution_count": 4,
     "metadata": {},
     "output_type": "execute_result"
    }
   ],
   "source": [
    "config = configparser.ConfigParser()\n",
    "config.read('config.ini')"
   ]
  },
  {
   "cell_type": "markdown",
   "metadata": {},
   "source": [
    "# Configuración a Base de datos"
   ]
  },
  {
   "cell_type": "code",
   "execution_count": 5,
   "metadata": {},
   "outputs": [],
   "source": [
    "MySQL_sakila = pymysql.connect(\n",
    "    host=config['local_mysql']['HOST'],\n",
    "    user=config['local_mysql']['USER'],\n",
    "    password=config['local_mysql']['PASS'],\n",
    "    database=config['local_mysql']['DB_NAME'],\n",
    "    port=int(config['local_mysql']['PORT'])\n",
    ")"
   ]
  },
  {
   "cell_type": "code",
   "execution_count": 6,
   "metadata": {},
   "outputs": [],
   "source": [
    "staging_conn_str = (\n",
    "    f\"postgresql://{config['local_postgres']['USER']}:\"\n",
    "    f\"{config['local_postgres']['PASS']}@\"\n",
    "    f\"{config['local_postgres']['HOST']}:\"\n",
    "    f\"{config['local_postgres']['PORT']}/\"\n",
    "    f\"{config['local_postgres']['DB_NAME']}\"\n",
    ")\n",
    "staging_engine = create_engine(staging_conn_str)"
   ]
  },
  {
   "cell_type": "markdown",
   "metadata": {},
   "source": [
    "# Creación del schema para staging en PostgreSQL"
   ]
  },
  {
   "cell_type": "code",
   "execution_count": 7,
   "metadata": {},
   "outputs": [
    {
     "name": "stdout",
     "output_type": "stream",
     "text": [
      "Esquema 'staging_sakila' creado exitosamente.\n"
     ]
    }
   ],
   "source": [
    "SCHEMA = config['local_postgres']['SCHEMA']\n",
    "\n",
    "with staging_engine.connect() as conn:\n",
    "    conn = conn.execution_options(isolation_level=\"AUTOCOMMIT\")\n",
    "    result = conn.execute(text(f\"SELECT schema_name FROM information_schema.schemata WHERE schema_name = '{SCHEMA}'\"))\n",
    "    if result.fetchone() is None:\n",
    "        conn.execute(text(f\"CREATE SCHEMA {SCHEMA};\"))\n",
    "        print(f\"Esquema '{SCHEMA}' creado exitosamente.\")\n",
    "    else:\n",
    "        print(f\"Esquema '{SCHEMA}' ya existe.\")"
   ]
  },
  {
   "cell_type": "markdown",
   "metadata": {},
   "source": [
    "# Extracción de la data de MySQL a PostgreSQL"
   ]
  },
  {
   "cell_type": "markdown",
   "metadata": {},
   "source": [
    "## Obtenemos las tablas de la base de datos de MySQL"
   ]
  },
  {
   "cell_type": "code",
   "execution_count": 8,
   "metadata": {},
   "outputs": [
    {
     "name": "stdout",
     "output_type": "stream",
     "text": [
      "['actor', 'actor_info', 'address', 'category', 'city', 'country', 'customer', 'customer_list', 'film', 'film_actor', 'film_category', 'film_list', 'film_text', 'inventory', 'language', 'nicer_but_slower_film_list', 'payment', 'rental', 'sales_by_film_category', 'sales_by_store', 'staff', 'staff_list', 'store']\n"
     ]
    }
   ],
   "source": [
    "sakila_curor = MySQL_sakila.cursor()\n",
    "sakila_curor.execute(\"SHOW TABLES;\")\n",
    "tables = [table[0] for table in sakila_curor.fetchall()]\n",
    "print(tables)"
   ]
  },
  {
   "cell_type": "markdown",
   "metadata": {},
   "source": [
    "## Insertamos la data en la base de datos de PostgreSQL [STAGING]"
   ]
  },
  {
   "cell_type": "code",
   "execution_count": null,
   "metadata": {},
   "outputs": [
    {
     "name": "stderr",
     "output_type": "stream",
     "text": [
      "C:\\Users\\maria\\AppData\\Local\\Temp\\ipykernel_13008\\3641891769.py:3: UserWarning: pandas only supports SQLAlchemy connectable (engine/connection) or database string URI or sqlite3 DBAPI2 connection. Other DBAPI2 objects are not tested. Please consider using SQLAlchemy.\n",
      "  sakila_df = pd.read_sql(sql_query, MySQL_sakila)\n"
     ]
    },
    {
     "name": "stdout",
     "output_type": "stream",
     "text": [
      "Tabla 'actor' insertada exitosamente en PostgreSQL.\n",
      "Tabla 'actor_info' insertada exitosamente en PostgreSQL.\n",
      "Tabla 'address' insertada exitosamente en PostgreSQL.\n",
      "Tabla 'category' insertada exitosamente en PostgreSQL.\n",
      "Tabla 'city' insertada exitosamente en PostgreSQL.\n",
      "Tabla 'country' insertada exitosamente en PostgreSQL.\n",
      "Tabla 'customer' insertada exitosamente en PostgreSQL.\n",
      "Tabla 'customer_list' insertada exitosamente en PostgreSQL.\n",
      "Tabla 'film' insertada exitosamente en PostgreSQL.\n",
      "Tabla 'film_actor' insertada exitosamente en PostgreSQL.\n",
      "Tabla 'film_category' insertada exitosamente en PostgreSQL.\n",
      "Tabla 'film_list' insertada exitosamente en PostgreSQL.\n",
      "Tabla 'film_text' insertada exitosamente en PostgreSQL.\n",
      "Tabla 'inventory' insertada exitosamente en PostgreSQL.\n",
      "Tabla 'language' insertada exitosamente en PostgreSQL.\n",
      "Tabla 'nicer_but_slower_film_list' insertada exitosamente en PostgreSQL.\n",
      "Tabla 'payment' insertada exitosamente en PostgreSQL.\n",
      "Tabla 'rental' insertada exitosamente en PostgreSQL.\n",
      "Tabla 'sales_by_film_category' insertada exitosamente en PostgreSQL.\n",
      "Tabla 'sales_by_store' insertada exitosamente en PostgreSQL.\n",
      "Tabla 'staff' insertada exitosamente en PostgreSQL.\n",
      "Tabla 'staff_list' insertada exitosamente en PostgreSQL.\n",
      "Tabla 'store' insertada exitosamente en PostgreSQL.\n",
      "Proceso completado.\n"
     ]
    }
   ],
   "source": [
    "for table in tables:\n",
    "    sql_query = f'SELECT * FROM {table}'\n",
    "    sakila_df = pd.read_sql(sql_query, MySQL_sakila)\n",
    "\n",
    "    for col in sakila_df.columns:\n",
    "        if sakila_df[col].dtype == object and isinstance(sakila_df[col].iloc[0], set):\n",
    "            sakila_df[col] = sakila_df[col].apply(lambda x: ','.join(x) if isinstance(x, set) else x)\n",
    "\n",
    "    sakila_df.to_sql(table, staging_engine, schema=SCHEMA, if_exists='append', index=False)\n",
    "    print(f\"Tabla '{table}' insertada exitosamente en PostgreSQL.\")\n",
    "\n",
    "print(\"Proceso completado.\")"
   ]
  },
  {
   "cell_type": "markdown",
   "metadata": {},
   "source": [
    "## Cierre de conexiones MySQL"
   ]
  },
  {
   "cell_type": "code",
   "execution_count": 10,
   "metadata": {},
   "outputs": [],
   "source": [
    "MySQL_sakila.close()\n",
    "sakila_curor.close()"
   ]
  },
  {
   "cell_type": "markdown",
   "metadata": {},
   "source": [
    "# Datamart"
   ]
  },
  {
   "cell_type": "code",
   "execution_count": 52,
   "metadata": {},
   "outputs": [],
   "source": [
    "import psycopg2\n",
    "\n",
    "staging_queries = configparser.ConfigParser()\n",
    "staging_queries.read('queries.ini')\n",
    "\n",
    "stage_queries = {\n",
    "  'TblDim_Cliente': staging_queries['staging_queries']['DIM_CLIENTES'],\n",
    "  'TblDim_Pelicula': staging_queries['staging_queries']['DIM_PELICULA'],\n",
    "  'TblDim_Pagos': staging_queries['staging_queries']['DIM_PAGOS'],\n",
    "  'TblDim_Actores': staging_queries['staging_queries']['DIM_ACTORES'],\n",
    "  'Tbl_Alquiler': staging_queries['staging_queries']['DIM_ALQUILER'],\n",
    "}\n",
    "\n",
    "postgres_config = (\n",
    "    f\"postgresql://{staging_queries['local_postgres']['USER']}:\"\n",
    "    f\"{staging_queries['local_postgres']['PASSWORD']}@\"\n",
    "    f\"{staging_queries['local_postgres']['HOST']}:\"\n",
    "    f\"{staging_queries['local_postgres']['PORT']}/\"\n",
    "    f\"{staging_queries['local_postgres']['DATABASE']}\"\n",
    ")\n",
    "postgres_connection = create_engine(postgres_config)\n"
   ]
  },
  {
   "cell_type": "code",
   "execution_count": 72,
   "metadata": {},
   "outputs": [
    {
     "name": "stdout",
     "output_type": "stream",
     "text": [
      "Esquema 'staging_sakila' ya existe.\n"
     ]
    }
   ],
   "source": [
    "SCHEMA = staging_queries['local_postgres']['SCHEMA']\n",
    "\n",
    "with postgres_connection.connect() as conn:\n",
    "    conn = conn.execution_options(isolation_level=\"AUTOCOMMIT\")\n",
    "    result = conn.execute(text(f\"SELECT schema_name FROM information_schema.schemata WHERE schema_name = '{SCHEMA}'\"))\n",
    "    if result.fetchone() is None:\n",
    "        conn.execute(text(f\"CREATE SCHEMA {SCHEMA};\"))\n",
    "        print(f\"Esquema '{SCHEMA}' creado exitosamente.\")\n",
    "    else:\n",
    "        print(f\"Esquema '{SCHEMA}' ya existe.\")\n",
    "    conn.execute(text(f\"SET search_path TO {SCHEMA};\"))"
   ]
  },
  {
   "cell_type": "code",
   "execution_count": 91,
   "metadata": {},
   "outputs": [
    {
     "name": "stdout",
     "output_type": "stream",
     "text": [
      "Datos insertados en la tabla 'TblDim_Cliente' de DuckDB.\n",
      "Datos insertados en la tabla 'TblDim_Pelicula' de DuckDB.\n",
      "Datos insertados en la tabla 'TblDim_Pagos' de DuckDB.\n",
      "Datos insertados en la tabla 'TblDim_Actores' de DuckDB.\n",
      "Datos insertados en la tabla 'Tbl_Alquiler' de DuckDB.\n"
     ]
    }
   ],
   "source": [
    "import duckdb\n",
    "\n",
    "duckdb_connection = duckdb.connect(database=\"datamart\", read_only=False)\n",
    "\n",
    "for table, query in stage_queries.items():\n",
    "  stage_to_datamart_df = pd.read_sql(query, postgres_connection) \n",
    "\n",
    "  duckdb_connection.sql(f\"INSERT INTO {table} SELECT * FROM stage_to_datamart_df\")\n",
    "  print(f\"Datos insertados en la tabla '{table}' de DuckDB.\")"
   ]
  },
  {
   "cell_type": "code",
   "execution_count": 92,
   "metadata": {},
   "outputs": [],
   "source": [
    "#duckdb_connection.sql(\"DELETE FROM TblDim_Cliente;\")\n",
    "#duckdb_connection.sql(\"DELETE FROM TblDim_Pelicula;\")\n",
    "#duckdb_connection.sql(\"DELETE FROM TblDim_Pagos;\")\n",
    "#duckdb_connection.sql(\"DELETE FROM TblDim_Actores;\")\n",
    "#duckdb_connection.sql(\"DELETE FROM Tbl_Alquiler;\")\n",
    "\n",
    "duckdb_connection.close()"
   ]
  },
  {
   "cell_type": "code",
   "execution_count": null,
   "metadata": {},
   "outputs": [],
   "source": []
  }
 ],
 "metadata": {
  "kernelspec": {
   "display_name": "Python 3",
   "language": "python",
   "name": "python3"
  },
  "language_info": {
   "codemirror_mode": {
    "name": "ipython",
    "version": 3
   },
   "file_extension": ".py",
   "mimetype": "text/x-python",
   "name": "python",
   "nbconvert_exporter": "python",
   "pygments_lexer": "ipython3",
   "version": "3.12.9"
  }
 },
 "nbformat": 4,
 "nbformat_minor": 2
}
