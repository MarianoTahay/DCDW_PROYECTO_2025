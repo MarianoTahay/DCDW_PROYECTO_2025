{
 "cells": [
  {
   "cell_type": "markdown",
   "metadata": {},
   "source": [
    "# Librerias"
   ]
  },
  {
   "cell_type": "code",
   "execution_count": 2,
   "metadata": {},
   "outputs": [],
   "source": [
    "import configparser\n",
    "import pandas as pd\n",
    "import pymysql\n",
    "import re\n",
    "from sqlalchemy import create_engine, text"
   ]
  },
  {
   "cell_type": "markdown",
   "metadata": {},
   "source": [
    "# Configuracion de parámetros"
   ]
  },
  {
   "cell_type": "code",
   "execution_count": 46,
   "metadata": {},
   "outputs": [
    {
     "data": {
      "text/plain": [
       "['config.ini']"
      ]
     },
     "execution_count": 46,
     "metadata": {},
     "output_type": "execute_result"
    }
   ],
   "source": [
    "config = configparser.ConfigParser()\n",
    "config.read('config.ini')"
   ]
  },
  {
   "cell_type": "markdown",
   "metadata": {},
   "source": [
    "# Configuración a Base de datos"
   ]
  },
  {
   "cell_type": "code",
   "execution_count": 4,
   "metadata": {},
   "outputs": [],
   "source": [
    "MySQL_sakila = pymysql.connect(\n",
    "    host=config['local_mysql']['HOST'],\n",
    "    user=config['local_mysql']['USER'],\n",
    "    password=config['local_mysql']['PASS'],\n",
    "    database=config['local_mysql']['DB_NAME'],\n",
    "    port=int(config['local_mysql']['PORT'])\n",
    ")"
   ]
  },
  {
   "cell_type": "code",
   "execution_count": 47,
   "metadata": {},
   "outputs": [],
   "source": [
    "staging_conn_str = (\n",
    "    f\"postgresql://{config['local_postgres']['USER']}:\"\n",
    "    f\"{config['local_postgres']['PASS']}@\"\n",
    "    f\"{config['local_postgres']['HOST']}:\"\n",
    "    f\"{config['local_postgres']['PORT']}/\"\n",
    "    f\"{config['local_postgres']['DB_NAME']}\"\n",
    ")\n",
    "staging_engine = create_engine(staging_conn_str)"
   ]
  },
  {
   "cell_type": "markdown",
   "metadata": {},
   "source": [
    "# Creación del schema para staging en PostgreSQL"
   ]
  },
  {
   "cell_type": "code",
   "execution_count": 8,
   "metadata": {},
   "outputs": [
    {
     "name": "stdout",
     "output_type": "stream",
     "text": [
      "Esquema 'staging_sakila' ya existe.\n"
     ]
    }
   ],
   "source": [
    "SCHEMA = config['local_postgres']['SCHEMA']\n",
    "\n",
    "with staging_engine.connect() as conn:\n",
    "    conn = conn.execution_options(isolation_level=\"AUTOCOMMIT\")\n",
    "    result = conn.execute(text(f\"SELECT schema_name FROM information_schema.schemata WHERE schema_name = '{SCHEMA}'\"))\n",
    "    if result.fetchone() is None:\n",
    "        conn.execute(text(f\"CREATE SCHEMA {SCHEMA};\"))\n",
    "        print(f\"Esquema '{SCHEMA}' creado exitosamente.\")\n",
    "    else:\n",
    "        print(f\"Esquema '{SCHEMA}' ya existe.\")"
   ]
  },
  {
   "cell_type": "markdown",
   "metadata": {},
   "source": [
    "# Extracción de la data de MySQL a PostgreSQL"
   ]
  },
  {
   "cell_type": "code",
   "execution_count": 9,
   "metadata": {},
   "outputs": [
    {
     "ename": "InterfaceError",
     "evalue": "(0, '')",
     "output_type": "error",
     "traceback": [
      "\u001b[31m---------------------------------------------------------------------------\u001b[39m",
      "\u001b[31mInterfaceError\u001b[39m                            Traceback (most recent call last)",
      "\u001b[36mCell\u001b[39m\u001b[36m \u001b[39m\u001b[32mIn[9]\u001b[39m\u001b[32m, line 2\u001b[39m\n\u001b[32m      1\u001b[39m sakila_curor = MySQL_sakila.cursor()\n\u001b[32m----> \u001b[39m\u001b[32m2\u001b[39m \u001b[43msakila_curor\u001b[49m\u001b[43m.\u001b[49m\u001b[43mexecute\u001b[49m\u001b[43m(\u001b[49m\u001b[33;43m\"\u001b[39;49m\u001b[33;43mSHOW TABLES;\u001b[39;49m\u001b[33;43m\"\u001b[39;49m\u001b[43m)\u001b[49m\n\u001b[32m      3\u001b[39m tables = [table[\u001b[32m0\u001b[39m] \u001b[38;5;28;01mfor\u001b[39;00m table \u001b[38;5;129;01min\u001b[39;00m sakila_curor.fetchall()]\n\u001b[32m      4\u001b[39m \u001b[38;5;28mprint\u001b[39m(tables)\n",
      "\u001b[36mFile \u001b[39m\u001b[32m~\\AppData\\Local\\Packages\\PythonSoftwareFoundation.Python.3.12_qbz5n2kfra8p0\\LocalCache\\local-packages\\Python312\\site-packages\\pymysql\\cursors.py:153\u001b[39m, in \u001b[36mCursor.execute\u001b[39m\u001b[34m(self, query, args)\u001b[39m\n\u001b[32m    149\u001b[39m     \u001b[38;5;28;01mpass\u001b[39;00m\n\u001b[32m    151\u001b[39m query = \u001b[38;5;28mself\u001b[39m.mogrify(query, args)\n\u001b[32m--> \u001b[39m\u001b[32m153\u001b[39m result = \u001b[38;5;28;43mself\u001b[39;49m\u001b[43m.\u001b[49m\u001b[43m_query\u001b[49m\u001b[43m(\u001b[49m\u001b[43mquery\u001b[49m\u001b[43m)\u001b[49m\n\u001b[32m    154\u001b[39m \u001b[38;5;28mself\u001b[39m._executed = query\n\u001b[32m    155\u001b[39m \u001b[38;5;28;01mreturn\u001b[39;00m result\n",
      "\u001b[36mFile \u001b[39m\u001b[32m~\\AppData\\Local\\Packages\\PythonSoftwareFoundation.Python.3.12_qbz5n2kfra8p0\\LocalCache\\local-packages\\Python312\\site-packages\\pymysql\\cursors.py:322\u001b[39m, in \u001b[36mCursor._query\u001b[39m\u001b[34m(self, q)\u001b[39m\n\u001b[32m    320\u001b[39m conn = \u001b[38;5;28mself\u001b[39m._get_db()\n\u001b[32m    321\u001b[39m \u001b[38;5;28mself\u001b[39m._clear_result()\n\u001b[32m--> \u001b[39m\u001b[32m322\u001b[39m \u001b[43mconn\u001b[49m\u001b[43m.\u001b[49m\u001b[43mquery\u001b[49m\u001b[43m(\u001b[49m\u001b[43mq\u001b[49m\u001b[43m)\u001b[49m\n\u001b[32m    323\u001b[39m \u001b[38;5;28mself\u001b[39m._do_get_result()\n\u001b[32m    324\u001b[39m \u001b[38;5;28;01mreturn\u001b[39;00m \u001b[38;5;28mself\u001b[39m.rowcount\n",
      "\u001b[36mFile \u001b[39m\u001b[32m~\\AppData\\Local\\Packages\\PythonSoftwareFoundation.Python.3.12_qbz5n2kfra8p0\\LocalCache\\local-packages\\Python312\\site-packages\\pymysql\\connections.py:562\u001b[39m, in \u001b[36mConnection.query\u001b[39m\u001b[34m(self, sql, unbuffered)\u001b[39m\n\u001b[32m    560\u001b[39m \u001b[38;5;28;01mif\u001b[39;00m \u001b[38;5;28misinstance\u001b[39m(sql, \u001b[38;5;28mstr\u001b[39m):\n\u001b[32m    561\u001b[39m     sql = sql.encode(\u001b[38;5;28mself\u001b[39m.encoding, \u001b[33m\"\u001b[39m\u001b[33msurrogateescape\u001b[39m\u001b[33m\"\u001b[39m)\n\u001b[32m--> \u001b[39m\u001b[32m562\u001b[39m \u001b[38;5;28;43mself\u001b[39;49m\u001b[43m.\u001b[49m\u001b[43m_execute_command\u001b[49m\u001b[43m(\u001b[49m\u001b[43mCOMMAND\u001b[49m\u001b[43m.\u001b[49m\u001b[43mCOM_QUERY\u001b[49m\u001b[43m,\u001b[49m\u001b[43m \u001b[49m\u001b[43msql\u001b[49m\u001b[43m)\u001b[49m\n\u001b[32m    563\u001b[39m \u001b[38;5;28mself\u001b[39m._affected_rows = \u001b[38;5;28mself\u001b[39m._read_query_result(unbuffered=unbuffered)\n\u001b[32m    564\u001b[39m \u001b[38;5;28;01mreturn\u001b[39;00m \u001b[38;5;28mself\u001b[39m._affected_rows\n",
      "\u001b[36mFile \u001b[39m\u001b[32m~\\AppData\\Local\\Packages\\PythonSoftwareFoundation.Python.3.12_qbz5n2kfra8p0\\LocalCache\\local-packages\\Python312\\site-packages\\pymysql\\connections.py:843\u001b[39m, in \u001b[36mConnection._execute_command\u001b[39m\u001b[34m(self, command, sql)\u001b[39m\n\u001b[32m    838\u001b[39m \u001b[38;5;250m\u001b[39m\u001b[33;03m\"\"\"\u001b[39;00m\n\u001b[32m    839\u001b[39m \u001b[33;03m:raise InterfaceError: If the connection is closed.\u001b[39;00m\n\u001b[32m    840\u001b[39m \u001b[33;03m:raise ValueError: If no username was specified.\u001b[39;00m\n\u001b[32m    841\u001b[39m \u001b[33;03m\"\"\"\u001b[39;00m\n\u001b[32m    842\u001b[39m \u001b[38;5;28;01mif\u001b[39;00m \u001b[38;5;129;01mnot\u001b[39;00m \u001b[38;5;28mself\u001b[39m._sock:\n\u001b[32m--> \u001b[39m\u001b[32m843\u001b[39m     \u001b[38;5;28;01mraise\u001b[39;00m err.InterfaceError(\u001b[32m0\u001b[39m, \u001b[33m\"\u001b[39m\u001b[33m\"\u001b[39m)\n\u001b[32m    845\u001b[39m \u001b[38;5;66;03m# If the last query was unbuffered, make sure it finishes before\u001b[39;00m\n\u001b[32m    846\u001b[39m \u001b[38;5;66;03m# sending new commands\u001b[39;00m\n\u001b[32m    847\u001b[39m \u001b[38;5;28;01mif\u001b[39;00m \u001b[38;5;28mself\u001b[39m._result \u001b[38;5;129;01mis\u001b[39;00m \u001b[38;5;129;01mnot\u001b[39;00m \u001b[38;5;28;01mNone\u001b[39;00m:\n",
      "\u001b[31mInterfaceError\u001b[39m: (0, '')"
     ]
    }
   ],
   "source": [
    "sakila_curor = MySQL_sakila.cursor()\n",
    "sakila_curor.execute(\"SHOW TABLES;\")\n",
    "tables = [table[0] for table in sakila_curor.fetchall()]\n",
    "print(tables)"
   ]
  },
  {
   "cell_type": "markdown",
   "metadata": {},
   "source": [
    "## Insertamos la data en la base de datos de PostgreSQL [STAGING]"
   ]
  },
  {
   "cell_type": "code",
   "execution_count": null,
   "metadata": {},
   "outputs": [
    {
     "name": "stderr",
     "output_type": "stream",
     "text": [
      "C:\\Users\\maria\\AppData\\Local\\Temp\\ipykernel_13008\\3641891769.py:3: UserWarning: pandas only supports SQLAlchemy connectable (engine/connection) or database string URI or sqlite3 DBAPI2 connection. Other DBAPI2 objects are not tested. Please consider using SQLAlchemy.\n",
      "  sakila_df = pd.read_sql(sql_query, MySQL_sakila)\n"
     ]
    },
    {
     "name": "stdout",
     "output_type": "stream",
     "text": [
      "Tabla 'actor' insertada exitosamente en PostgreSQL.\n",
      "Tabla 'actor_info' insertada exitosamente en PostgreSQL.\n",
      "Tabla 'address' insertada exitosamente en PostgreSQL.\n",
      "Tabla 'category' insertada exitosamente en PostgreSQL.\n",
      "Tabla 'city' insertada exitosamente en PostgreSQL.\n",
      "Tabla 'country' insertada exitosamente en PostgreSQL.\n",
      "Tabla 'customer' insertada exitosamente en PostgreSQL.\n",
      "Tabla 'customer_list' insertada exitosamente en PostgreSQL.\n",
      "Tabla 'film' insertada exitosamente en PostgreSQL.\n",
      "Tabla 'film_actor' insertada exitosamente en PostgreSQL.\n",
      "Tabla 'film_category' insertada exitosamente en PostgreSQL.\n",
      "Tabla 'film_list' insertada exitosamente en PostgreSQL.\n",
      "Tabla 'film_text' insertada exitosamente en PostgreSQL.\n",
      "Tabla 'inventory' insertada exitosamente en PostgreSQL.\n",
      "Tabla 'language' insertada exitosamente en PostgreSQL.\n",
      "Tabla 'nicer_but_slower_film_list' insertada exitosamente en PostgreSQL.\n",
      "Tabla 'payment' insertada exitosamente en PostgreSQL.\n",
      "Tabla 'rental' insertada exitosamente en PostgreSQL.\n",
      "Tabla 'sales_by_film_category' insertada exitosamente en PostgreSQL.\n",
      "Tabla 'sales_by_store' insertada exitosamente en PostgreSQL.\n",
      "Tabla 'staff' insertada exitosamente en PostgreSQL.\n",
      "Tabla 'staff_list' insertada exitosamente en PostgreSQL.\n",
      "Tabla 'store' insertada exitosamente en PostgreSQL.\n",
      "Proceso completado.\n"
     ]
    }
   ],
   "source": [
    "for table in tables:\n",
    "    sql_query = f'SELECT * FROM {table}'\n",
    "    sakila_df = pd.read_sql(sql_query, MySQL_sakila)\n",
    "\n",
    "    for col in sakila_df.columns:\n",
    "        if sakila_df[col].dtype == object and isinstance(sakila_df[col].iloc[0], set):\n",
    "            sakila_df[col] = sakila_df[col].apply(lambda x: ','.join(x) if isinstance(x, set) else x)\n",
    "\n",
    "    sakila_df.to_sql(table, staging_engine, schema=SCHEMA, if_exists='append', index=False)\n",
    "    print(f\"Tabla '{table}' insertada exitosamente en PostgreSQL.\")\n",
    "\n",
    "print(\"Proceso completado.\")"
   ]
  },
  {
   "cell_type": "markdown",
   "metadata": {},
   "source": [
    "## Cierre de conexiones MySQL"
   ]
  },
  {
   "cell_type": "code",
   "execution_count": 6,
   "metadata": {},
   "outputs": [
    {
     "ename": "NameError",
     "evalue": "name 'sakila_curor' is not defined",
     "output_type": "error",
     "traceback": [
      "\u001b[31m---------------------------------------------------------------------------\u001b[39m",
      "\u001b[31mNameError\u001b[39m                                 Traceback (most recent call last)",
      "\u001b[36mCell\u001b[39m\u001b[36m \u001b[39m\u001b[32mIn[6]\u001b[39m\u001b[32m, line 2\u001b[39m\n\u001b[32m      1\u001b[39m MySQL_sakila.close()\n\u001b[32m----> \u001b[39m\u001b[32m2\u001b[39m \u001b[43msakila_curor\u001b[49m.close()\n",
      "\u001b[31mNameError\u001b[39m: name 'sakila_curor' is not defined"
     ]
    }
   ],
   "source": [
    "MySQL_sakila.close()\n",
    "sakila_curor.close()"
   ]
  },
  {
   "cell_type": "markdown",
   "metadata": {},
   "source": [
    "# Datamart"
   ]
  },
  {
   "cell_type": "code",
   "execution_count": 49,
   "metadata": {},
   "outputs": [],
   "source": [
    "staging_queries = configparser.ConfigParser()\n",
    "staging_queries.read('queries.ini')\n",
    "\n",
    "stage_queries = {\n",
    "  'TblDim_Cliente': staging_queries['staging_queries']['DIM_CLIENTES'],\n",
    "  'TblDim_Pelicula': staging_queries['staging_queries']['DIM_PELICULA'],\n",
    "  'TblDim_Pagos': staging_queries['staging_queries']['DIM_PAGOS'],\n",
    "  'TblDim_Actores': staging_queries['staging_queries']['DIM_ACTORES'],\n",
    "  'Tbl_Alquiler': staging_queries['staging_queries']['DIM_ALQUILER'],\n",
    "}"
   ]
  },
  {
   "cell_type": "code",
   "execution_count": 50,
   "metadata": {},
   "outputs": [
    {
     "name": "stdout",
     "output_type": "stream",
     "text": [
      "Esquema 'staging_sakila' ya existe.\n"
     ]
    }
   ],
   "source": [
    "SCHEMA = config['local_postgres']['SCHEMA']\n",
    "\n",
    "with staging_engine.connect() as conn:\n",
    "    conn = conn.execution_options(isolation_level=\"AUTOCOMMIT\")\n",
    "    result = conn.execute(text(f\"SELECT schema_name FROM information_schema.schemata WHERE schema_name = '{SCHEMA}'\"))\n",
    "    if result.fetchone() is None:\n",
    "        conn.execute(text(f\"CREATE SCHEMA {SCHEMA};\"))\n",
    "        print(f\"Esquema '{SCHEMA}' creado exitosamente.\")\n",
    "    else:\n",
    "        print(f\"Esquema '{SCHEMA}' ya existe.\")\n",
    "    conn.execute(text(f\"SET search_path TO {SCHEMA};\"))"
   ]
  },
  {
   "cell_type": "code",
   "execution_count": 57,
   "metadata": {},
   "outputs": [],
   "source": [
    "import duckdb\n",
    "\n",
    "duckdb_connection = duckdb.connect(database=\"datamart\", read_only=False)"
   ]
  },
  {
   "cell_type": "code",
   "execution_count": 53,
   "metadata": {},
   "outputs": [
    {
     "name": "stdout",
     "output_type": "stream",
     "text": [
      "Datos insertados en la tabla 'TblDim_Cliente' de DuckDB.\n",
      "Datos insertados en la tabla 'TblDim_Pelicula' de DuckDB.\n",
      "Datos insertados en la tabla 'TblDim_Pagos' de DuckDB.\n",
      "Datos insertados en la tabla 'TblDim_Actores' de DuckDB.\n",
      "Datos insertados en la tabla 'Tbl_Alquiler' de DuckDB.\n"
     ]
    }
   ],
   "source": [
    "for table, query in stage_queries.items():\n",
    "  stage_to_datamart_df = pd.read_sql(query, staging_engine) \n",
    "\n",
    "  duckdb_connection.sql(f\"INSERT INTO {table} SELECT * FROM stage_to_datamart_df\")\n",
    "  print(f\"Datos insertados en la tabla '{table}' de DuckDB.\")"
   ]
  },
  {
   "cell_type": "code",
   "execution_count": 58,
   "metadata": {},
   "outputs": [
    {
     "data": {
      "text/plain": [
       "payment_date\n",
       "2005-05     4823.439941\n",
       "2005-06     9629.889648\n",
       "2005-07    28368.910156\n",
       "2005-08    24070.138672\n",
       "2006-02      514.179993\n",
       "Freq: M, Name: payment_amount, dtype: float32"
      ]
     },
     "execution_count": 58,
     "metadata": {},
     "output_type": "execute_result"
    }
   ],
   "source": [
    "import matplotlib.pyplot as plt\n",
    "\n",
    "query = \"SELECT payment_amount, payment_date FROM Tbl_Alquiler r JOIN TblDim_Pagos p ON r.payment_id = p.payment_id ORDER BY payment_date ASC;\"\n",
    "pagos_fecha_df = duckdb_connection.sql(query).to_df()\n",
    "\n",
    "pagos_fecha_df['payment_date'] = pd.to_datetime(pagos_fecha_df['payment_date'])\n",
    "\n",
    "pagos_mes_df = pagos_fecha_df.groupby(pagos_fecha_df['payment_date'].dt.to_period('M'))['payment_amount'].sum()\n",
    "\n",
    "pagos_mes_df\n"
   ]
  },
  {
   "cell_type": "code",
   "execution_count": 59,
   "metadata": {},
   "outputs": [
    {
     "data": {
      "text/plain": [
       "Text(0, 0.5, 'Monto Pagado')"
      ]
     },
     "execution_count": 59,
     "metadata": {},
     "output_type": "execute_result"
    },
    {
     "data": {
      "image/png": "[encoded data removed]",
      "text/plain": [
       "<Figure size 640x480 with 1 Axes>"
      ]
     },
     "metadata": {},
     "output_type": "display_data"
    }
   ],
   "source": [
    "pagos_mes_df.plot()\n",
    "plt.title('Pagos por Mes')\n",
    "plt.xlabel('Mes')\n",
    "plt.ylabel('Monto Pagado')"
   ]
  },
  {
   "cell_type": "code",
   "execution_count": 60,
   "metadata": {},
   "outputs": [],
   "source": [
    "#duckdb_connection.sql(\"DELETE FROM Tbl_Alquiler;\")\n",
    "#duckdb_connection.sql(\"DELETE FROM TblDim_Cliente;\")\n",
    "#duckdb_connection.sql(\"DELETE FROM TblDim_Actores;\")\n",
    "#duckdb_connection.sql(\"DELETE FROM TblDim_Pelicula;\")\n",
    "#duckdb_connection.sql(\"DELETE FROM TblDim_Pagos;\")\n",
    "\n",
    "duckdb_connection.close()\n",
    "staging_engine.dispose()"
   ]
  }
 ],
 "metadata": {
  "kernelspec": {
   "display_name": "Python 3",
   "language": "python",
   "name": "python3"
  },
  "language_info": {
   "codemirror_mode": {
    "name": "ipython",
    "version": 3
   },
   "file_extension": ".py",
   "mimetype": "text/x-python",
   "name": "python",
   "nbconvert_exporter": "python",
   "pygments_lexer": "ipython3",
   "version": "3.12.9"
  }
 },
 "nbformat": 4,
 "nbformat_minor": 2
}
